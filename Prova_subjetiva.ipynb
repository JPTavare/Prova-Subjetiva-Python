{
  "nbformat": 4,
  "nbformat_minor": 0,
  "metadata": {
    "colab": {
      "provenance": [],
      "authorship_tag": "ABX9TyNM7m7h2fYyWiauxR9DfmBB",
      "include_colab_link": true
    },
    "kernelspec": {
      "name": "python3",
      "display_name": "Python 3"
    },
    "language_info": {
      "name": "python"
    }
  },
  "cells": [
    {
      "cell_type": "markdown",
      "metadata": {
        "id": "view-in-github",
        "colab_type": "text"
      },
      "source": [
        "<a href=\"https://colab.research.google.com/github/JPTavare/Prova-Subjetiva-Python/blob/main/Prova_subjetiva.ipynb\" target=\"_parent\"><img src=\"https://colab.research.google.com/assets/colab-badge.svg\" alt=\"Open In Colab\"/></a>"
      ]
    },
    {
      "cell_type": "code",
      "source": [
        "#Feito por João Pedro Tavares Ferreira , Turma ADS - Programação 2\n",
        "#Matricula : 2024013158\n",
        "#Codigo principal(que executa o programa)\n",
        "!pip install python-docx\n",
        "!pip install PyPDF2\n",
        "import os\n",
        "import numpy as np\n",
        "from docx import Document\n",
        "import PyPDF2\n",
        "\n",
        "# Caminho para o diretório onde estão os arquivos\n",
        "diretorio = \"documentos\"\n",
        "\n",
        "# Verifica se a pasta existe\n",
        "if not os.path.exists(diretorio):\n",
        "    print(\"Diretório \",diretorio,\" não encontrado.\")\n",
        "    exit()\n",
        "\n",
        "# Tenta encontrar o arquivo com nome \"dados\" e extensão .pdf ou .docx\n",
        "arquivo_pdf = os.path.join(diretorio, \"dados.pdf\")\n",
        "arquivo_docx = os.path.join(diretorio, \"dados.docx\")\n",
        "\n",
        "# Lista para guardar os números que achar\n",
        "numeros = []\n",
        "\n",
        "# Lê arquivo .docx (Word)\n",
        "def ler_docx(caminho):\n",
        "    try:\n",
        "        doc = Document(caminho)  # Abre o arquivo\n",
        "        for p in doc.paragraphs:  # Passa por cada parte do texto\n",
        "            if p.text.isdigit():  # Se o texto for número\n",
        "                numeros.append(int(p.text))  # Guarda o número na lista\n",
        "    except:\n",
        "        print(\"Erro ao abrir o arquivo .docx\")\n",
        "\n",
        "# Lê arquivo .pdf\n",
        "def ler_pdf(caminho): # \"caminho\" é um apelido dentro da função\n",
        "    try:\n",
        "        with open(caminho, \"rb\") as f:  # Abre o arquivo\n",
        "            leitor = PyPDF2.PdfReader(f)  # Cria o leitor do pdf\n",
        "            for pagina in leitor.pages:  # Passa por cada página\n",
        "                texto = pagina.extract_text()  # Pega o texto da página\n",
        "                for linha in texto.splitlines():  # Passa por cada linha\n",
        "                    if linha.isdigit():  # Se for número\n",
        "                        numeros.append(int(linha))  # Guarda o número\n",
        "    except:\n",
        "        print(\"Erro ao abrir o arquivo .pdf\")\n",
        "\n",
        "\n",
        "# Verifica e lê o arquivo correto\n",
        "if os.path.exists(arquivo_docx):\n",
        "    print(\"Lendo dados do arquivo .docx...\")\n",
        "    ler_docx(arquivo_docx)\n",
        "elif os.path.exists(arquivo_pdf):\n",
        "    print(\"Lendo dados do arquivo .pdf...\")\n",
        "    ler_pdf(arquivo_pdf)\n",
        "else:\n",
        "    print(\"Arquivo 'dados.pdf' ou 'dados.docx' não encontrado no diretório 'documentos'.\")\n",
        "    exit()\n",
        "\n",
        "# Verifica se algum número foi lido\n",
        "if not numeros:\n",
        "    print(\"Nenhum número foi encontrado no arquivo.\")\n",
        "    exit()\n",
        "\n",
        "# Cálculo dos indicadores matemáticos\n",
        "media = np.mean(numeros)\n",
        "mediana = np.median(numeros)\n",
        "soma = sum(numeros)\n",
        "maior = max(numeros)\n",
        "menor = min(numeros)\n",
        "\n",
        "# Exibição dos resultados\n",
        "print(\"\\n Estatísticas dos dados:\")\n",
        "print(\"Média:\",media)\n",
        "print(\"Mediana:\", mediana)\n",
        "print(\"Somatório:\",soma)\n",
        "print(\"Maior valor:\",maior)\n",
        "print(\"Menor valor:\", menor)"
      ],
      "metadata": {
        "id": "nyBSNkFD7Bpk"
      },
      "execution_count": null,
      "outputs": []
    },
    {
      "cell_type": "code",
      "execution_count": null,
      "metadata": {
        "id": "qg6mY8JZ0Q4P"
      },
      "outputs": [],
      "source": [
        "#Codigo para criar diretorio com numeros\n",
        "\n",
        "!pip install python-docx\n",
        "!pip install PyPDF2\n",
        "from docx import Document\n",
        "import os\n",
        "\n",
        "# Cria a pasta se não existir\n",
        "if not os.path.exists(\"documentos\"):\n",
        "    os.mkdir(\"documentos\")\n",
        "\n",
        "# Cria o arquivo .docx\n",
        "doc = Document()\n",
        "\n",
        "# Números de exemplo\n",
        "numeros = [10, 20, 30, 40, 50]\n",
        "\n",
        "for numero in numeros:\n",
        "    doc.add_paragraph(str(numero))\n",
        "\n",
        "# Salva o arquivo\n",
        "doc.save(\"documentos/dados.docx\")\n",
        "\n",
        "print(\"Arquivo dados.docx criado com sucesso!\")\n"
      ]
    }
  ]
}